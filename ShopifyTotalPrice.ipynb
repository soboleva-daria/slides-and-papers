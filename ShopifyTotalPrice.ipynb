{
 "cells": [
  {
   "cell_type": "code",
   "execution_count": 1,
   "metadata": {
    "collapsed": false
   },
   "outputs": [
    {
     "name": "stdout",
     "output_type": "stream",
     "text": [
      "Populating the interactive namespace from numpy and matplotlib\n"
     ]
    }
   ],
   "source": [
    "import requests\n",
    "import pandas as pd\n",
    "import numpy as np\n",
    "\n",
    "%pylab inline"
   ]
  },
  {
   "cell_type": "code",
   "execution_count": 2,
   "metadata": {
    "collapsed": false
   },
   "outputs": [],
   "source": [
    "resp = requests.get('https://shopicruit.myshopify.com/admin/orders.json?page=1&access_token=c32313df0d0ef512ca64d5b336a0d7c6')\n",
    "orders = resp.json()['orders']\n",
    "df = pd.DataFrame(orders)"
   ]
  },
  {
   "cell_type": "markdown",
   "metadata": {},
   "source": [
    "### Let's look at the whole dataframe"
   ]
  },
  {
   "cell_type": "code",
   "execution_count": 6,
   "metadata": {
    "collapsed": false
   },
   "outputs": [
    {
     "name": "stdout",
     "output_type": "stream",
     "text": [
      "<class 'pandas.core.frame.DataFrame'>\n",
      "RangeIndex: 50 entries, 0 to 49\n",
      "Data columns (total 57 columns):\n",
      "billing_address            50 non-null object\n",
      "browser_ip                 0 non-null object\n",
      "buyer_accepts_marketing    50 non-null bool\n",
      "cancel_reason              0 non-null object\n",
      "cancelled_at               0 non-null object\n",
      "cart_token                 0 non-null object\n",
      "checkout_id                0 non-null object\n",
      "checkout_token             0 non-null object\n",
      "closed_at                  0 non-null object\n",
      "confirmed                  50 non-null bool\n",
      "contact_email              50 non-null object\n",
      "created_at                 50 non-null object\n",
      "currency                   50 non-null object\n",
      "customer                   50 non-null object\n",
      "device_id                  0 non-null object\n",
      "discount_codes             50 non-null object\n",
      "email                      50 non-null object\n",
      "financial_status           50 non-null object\n",
      "fulfillment_status         0 non-null object\n",
      "fulfillments               50 non-null object\n",
      "gateway                    50 non-null object\n",
      "id                         50 non-null int64\n",
      "landing_site               0 non-null object\n",
      "landing_site_ref           0 non-null object\n",
      "line_items                 50 non-null object\n",
      "location_id                0 non-null object\n",
      "name                       50 non-null object\n",
      "note                       0 non-null object\n",
      "note_attributes            50 non-null object\n",
      "number                     50 non-null int64\n",
      "order_number               50 non-null int64\n",
      "order_status_url           0 non-null object\n",
      "payment_gateway_names      50 non-null object\n",
      "processed_at               50 non-null object\n",
      "processing_method          50 non-null object\n",
      "reference                  0 non-null object\n",
      "referring_site             0 non-null object\n",
      "refunds                    50 non-null object\n",
      "shipping_address           50 non-null object\n",
      "shipping_lines             50 non-null object\n",
      "source_identifier          0 non-null object\n",
      "source_name                50 non-null object\n",
      "source_url                 0 non-null object\n",
      "subtotal_price             50 non-null object\n",
      "tags                       50 non-null object\n",
      "tax_lines                  50 non-null object\n",
      "taxes_included             50 non-null bool\n",
      "test                       50 non-null bool\n",
      "token                      50 non-null object\n",
      "total_discounts            50 non-null object\n",
      "total_line_items_price     50 non-null object\n",
      "total_price                50 non-null object\n",
      "total_price_usd            50 non-null object\n",
      "total_tax                  50 non-null object\n",
      "total_weight               50 non-null int64\n",
      "updated_at                 50 non-null object\n",
      "user_id                    0 non-null object\n",
      "dtypes: bool(4), int64(4), object(49)\n",
      "memory usage: 21.0+ KB\n"
     ]
    }
   ],
   "source": [
    "# 0 means there's no information (None)\n",
    "df.info()"
   ]
  },
  {
   "cell_type": "code",
   "execution_count": 10,
   "metadata": {
    "collapsed": false
   },
   "outputs": [
    {
     "data": {
      "text/plain": [
       "True    50\n",
       "Name: confirmed, dtype: int64"
      ]
     },
     "execution_count": 10,
     "metadata": {},
     "output_type": "execute_result"
    }
   ],
   "source": [
    "# All orders were confirmed\n",
    "df.confirmed.value_counts()"
   ]
  },
  {
   "cell_type": "code",
   "execution_count": 11,
   "metadata": {
    "collapsed": false
   },
   "outputs": [
    {
     "data": {
      "text/plain": [
       "CAD    50\n",
       "Name: currency, dtype: int64"
      ]
     },
     "execution_count": 11,
     "metadata": {},
     "output_type": "execute_result"
    }
   ],
   "source": [
    "# All orders have the same currency (Canadian Dollar)\n",
    "df.currency.value_counts()"
   ]
  },
  {
   "cell_type": "code",
   "execution_count": 12,
   "metadata": {
    "collapsed": false
   },
   "outputs": [
    {
     "data": {
      "text/plain": [
       "0.00    50\n",
       "Name: total_discounts, dtype: int64"
      ]
     },
     "execution_count": 12,
     "metadata": {},
     "output_type": "execute_result"
    }
   ],
   "source": [
    "# There are no discounts\n",
    "df.total_discounts.value_counts()"
   ]
  },
  {
   "cell_type": "code",
   "execution_count": 13,
   "metadata": {
    "collapsed": false
   },
   "outputs": [
    {
     "data": {
      "text/plain": [
       "0.00    50\n",
       "Name: total_tax, dtype: int64"
      ]
     },
     "execution_count": 13,
     "metadata": {},
     "output_type": "execute_result"
    }
   ],
   "source": [
    "# There are no taxes\n",
    "df.total_tax.value_counts()"
   ]
  },
  {
   "cell_type": "code",
   "execution_count": 14,
   "metadata": {
    "collapsed": false
   },
   "outputs": [
    {
     "data": {
      "text/plain": [
       "paid    50\n",
       "Name: financial_status, dtype: int64"
      ]
     },
     "execution_count": 14,
     "metadata": {},
     "output_type": "execute_result"
    }
   ],
   "source": [
    "# All clients are paid\n",
    "df.financial_status.value_counts()"
   ]
  },
  {
   "cell_type": "code",
   "execution_count": 15,
   "metadata": {
    "collapsed": false
   },
   "outputs": [
    {
     "data": {
      "text/plain": [
       "0    50\n",
       "Name: refunds, dtype: int64"
      ]
     },
     "execution_count": 15,
     "metadata": {},
     "output_type": "execute_result"
    }
   ],
   "source": [
    "# There are no refunds\n",
    "df.refunds.apply(len).value_counts()"
   ]
  },
  {
   "cell_type": "code",
   "execution_count": 16,
   "metadata": {
    "collapsed": false
   },
   "outputs": [
    {
     "data": {
      "text/plain": [
       "True"
      ]
     },
     "execution_count": 16,
     "metadata": {},
     "output_type": "execute_result"
    }
   ],
   "source": [
    "# Total_price is the same as total_line_items_price and subtotal price\n",
    "np.all(df.total_price == df.total_line_items_price)"
   ]
  },
  {
   "cell_type": "code",
   "execution_count": 18,
   "metadata": {
    "collapsed": false
   },
   "outputs": [
    {
     "name": "stdout",
     "output_type": "stream",
     "text": [
      "Total order revenue (usd): 6051.420000000001\n"
     ]
    }
   ],
   "source": [
    "print(\n",
    "    'Total order revenue (usd): {}'.format(\n",
    "        df.total_price_usd .astype(\n",
    "            np.float64).sum()))"
   ]
  }
 ],
 "metadata": {
  "kernelspec": {
   "display_name": "Python 3",
   "language": "python",
   "name": "python3"
  },
  "language_info": {
   "codemirror_mode": {
    "name": "ipython",
    "version": 3
   },
   "file_extension": ".py",
   "mimetype": "text/x-python",
   "name": "python",
   "nbconvert_exporter": "python",
   "pygments_lexer": "ipython3",
   "version": "3.5.2"
  }
 },
 "nbformat": 4,
 "nbformat_minor": 0
}
